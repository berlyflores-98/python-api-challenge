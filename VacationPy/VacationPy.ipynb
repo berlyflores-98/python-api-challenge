{
 "cells": [
  {
   "cell_type": "markdown",
   "metadata": {},
   "source": [
    "# VacationPy\n",
    "----\n",
    "\n",
    "#### Note\n",
    "* Keep an eye on your API usage. Use https://developers.google.com/maps/reporting/gmp-reporting as reference for how to monitor your usage and billing.\n",
    "\n",
    "* Instructions have been included for each segment. You do not have to follow them exactly, but they are included to help you think through the steps."
   ]
  },
  {
   "cell_type": "code",
   "execution_count": 6,
   "metadata": {},
   "outputs": [],
   "source": [
    "# Dependencies and Setup\n",
    "import matplotlib.pyplot as plt\n",
    "import pandas as pd\n",
    "import numpy as np\n",
    "import requests\n",
    "import gmaps\n",
    "import os\n",
    "\n",
    "# Import API key\n",
    "from api_keys import g_key"
   ]
  },
  {
   "cell_type": "markdown",
   "metadata": {},
   "source": [
    "### Store Part I results into DataFrame\n",
    "* Load the csv exported in Part I to a DataFrame"
   ]
  },
  {
   "cell_type": "code",
   "execution_count": 4,
   "metadata": {},
   "outputs": [
    {
     "data": {
      "text/html": [
       "<div>\n",
       "<style scoped>\n",
       "    .dataframe tbody tr th:only-of-type {\n",
       "        vertical-align: middle;\n",
       "    }\n",
       "\n",
       "    .dataframe tbody tr th {\n",
       "        vertical-align: top;\n",
       "    }\n",
       "\n",
       "    .dataframe thead th {\n",
       "        text-align: right;\n",
       "    }\n",
       "</style>\n",
       "<table border=\"1\" class=\"dataframe\">\n",
       "  <thead>\n",
       "    <tr style=\"text-align: right;\">\n",
       "      <th></th>\n",
       "      <th>City Name</th>\n",
       "      <th>Lat</th>\n",
       "      <th>Lng</th>\n",
       "      <th>Max Temp</th>\n",
       "      <th>Humidity</th>\n",
       "      <th>Cloudiness</th>\n",
       "      <th>Wind Speed</th>\n",
       "      <th>Country</th>\n",
       "      <th>Date</th>\n",
       "    </tr>\n",
       "  </thead>\n",
       "  <tbody>\n",
       "    <tr>\n",
       "      <th>0</th>\n",
       "      <td>New Plymouth</td>\n",
       "      <td>-39.07</td>\n",
       "      <td>174.08</td>\n",
       "      <td>57.00</td>\n",
       "      <td>68</td>\n",
       "      <td>12</td>\n",
       "      <td>15.01</td>\n",
       "      <td>NZ</td>\n",
       "      <td>1600234364</td>\n",
       "    </tr>\n",
       "    <tr>\n",
       "      <th>1</th>\n",
       "      <td>Kapaa</td>\n",
       "      <td>22.08</td>\n",
       "      <td>-159.32</td>\n",
       "      <td>80.60</td>\n",
       "      <td>69</td>\n",
       "      <td>20</td>\n",
       "      <td>10.29</td>\n",
       "      <td>US</td>\n",
       "      <td>1600233949</td>\n",
       "    </tr>\n",
       "    <tr>\n",
       "      <th>2</th>\n",
       "      <td>Atuona</td>\n",
       "      <td>-9.80</td>\n",
       "      <td>-139.03</td>\n",
       "      <td>78.33</td>\n",
       "      <td>76</td>\n",
       "      <td>1</td>\n",
       "      <td>18.63</td>\n",
       "      <td>PF</td>\n",
       "      <td>1600234364</td>\n",
       "    </tr>\n",
       "    <tr>\n",
       "      <th>3</th>\n",
       "      <td>Emporia</td>\n",
       "      <td>38.40</td>\n",
       "      <td>-96.18</td>\n",
       "      <td>62.60</td>\n",
       "      <td>88</td>\n",
       "      <td>1</td>\n",
       "      <td>6.93</td>\n",
       "      <td>US</td>\n",
       "      <td>1600234365</td>\n",
       "    </tr>\n",
       "    <tr>\n",
       "      <th>4</th>\n",
       "      <td>Fallon</td>\n",
       "      <td>39.47</td>\n",
       "      <td>-118.78</td>\n",
       "      <td>60.80</td>\n",
       "      <td>44</td>\n",
       "      <td>90</td>\n",
       "      <td>5.82</td>\n",
       "      <td>US</td>\n",
       "      <td>1600234365</td>\n",
       "    </tr>\n",
       "  </tbody>\n",
       "</table>\n",
       "</div>"
      ],
      "text/plain": [
       "      City Name    Lat     Lng  Max Temp  Humidity  Cloudiness  Wind Speed  \\\n",
       "0  New Plymouth -39.07  174.08     57.00        68          12       15.01   \n",
       "1         Kapaa  22.08 -159.32     80.60        69          20       10.29   \n",
       "2        Atuona  -9.80 -139.03     78.33        76           1       18.63   \n",
       "3       Emporia  38.40  -96.18     62.60        88           1        6.93   \n",
       "4        Fallon  39.47 -118.78     60.80        44          90        5.82   \n",
       "\n",
       "  Country        Date  \n",
       "0      NZ  1600234364  \n",
       "1      US  1600233949  \n",
       "2      PF  1600234364  \n",
       "3      US  1600234365  \n",
       "4      US  1600234365  "
      ]
     },
     "execution_count": 4,
     "metadata": {},
     "output_type": "execute_result"
    }
   ],
   "source": [
    "#loading the csv file\n",
    "city_data_df = pd.read_csv('../WeatherPy/output_data/city_data.csv')\n",
    "\n",
    "#cleaning up the data, dropping a \"Unnamed: 0\" column\n",
    "city_data_df = city_data_df.drop(columns=\"Unnamed: 0\")\n",
    "\n",
    "city_data_df.head()"
   ]
  },
  {
   "cell_type": "markdown",
   "metadata": {},
   "source": [
    "### Humidity Heatmap\n",
    "* Configure gmaps.\n",
    "* Use the Lat and Lng as locations and Humidity as the weight.\n",
    "* Add Heatmap layer to map."
   ]
  },
  {
   "cell_type": "code",
   "execution_count": 8,
   "metadata": {},
   "outputs": [],
   "source": [
    "# Access maps with unique API key\n",
    "gmaps.configure(api_key=g_key)\n",
    "\n",
    "# Store 'Lat' and 'Lng' into a variable called 'locations'\n",
    "locations = city_data_df[[\"Lat\", \"Lng\"]]\n",
    "\n",
    "# Store 'Humidity' in a variable called 'Hum_list'\n",
    "Hum_list = city_data_df[\"Humidity\"].astype(float)"
   ]
  },
  {
   "cell_type": "code",
   "execution_count": 9,
   "metadata": {},
   "outputs": [
    {
     "data": {
      "application/vnd.jupyter.widget-view+json": {
       "model_id": "c7d4596b487c44a9a90d268a46eff83f",
       "version_major": 2,
       "version_minor": 0
      },
      "text/plain": [
       "Figure(layout=FigureLayout(height='420px'))"
      ]
     },
     "metadata": {},
     "output_type": "display_data"
    }
   ],
   "source": [
    "# Create the mapping figure\n",
    "fig = gmaps.figure()\n",
    "\n",
    "# Create the heatmap layer using locations and Hum_list\n",
    "heat_layer = gmaps.heatmap_layer(locations, weights=Hum_list, \n",
    "                                 dissipating=False, max_intensity=100,\n",
    "                                 point_radius=0.9)\n",
    "# Add heatmap layer to figure\n",
    "fig.add_layer(heat_layer)\n",
    "\n",
    "# Display the figure\n",
    "fig"
   ]
  },
  {
   "cell_type": "markdown",
   "metadata": {},
   "source": [
    "### Create new DataFrame fitting weather criteria\n",
    "* Narrow down the cities to fit weather conditions.\n",
    "* Drop any rows will null values."
   ]
  },
  {
   "cell_type": "code",
   "execution_count": 16,
   "metadata": {},
   "outputs": [
    {
     "data": {
      "text/html": [
       "<div>\n",
       "<style scoped>\n",
       "    .dataframe tbody tr th:only-of-type {\n",
       "        vertical-align: middle;\n",
       "    }\n",
       "\n",
       "    .dataframe tbody tr th {\n",
       "        vertical-align: top;\n",
       "    }\n",
       "\n",
       "    .dataframe thead th {\n",
       "        text-align: right;\n",
       "    }\n",
       "</style>\n",
       "<table border=\"1\" class=\"dataframe\">\n",
       "  <thead>\n",
       "    <tr style=\"text-align: right;\">\n",
       "      <th></th>\n",
       "      <th>City Name</th>\n",
       "      <th>Lat</th>\n",
       "      <th>Lng</th>\n",
       "      <th>Max Temp</th>\n",
       "      <th>Humidity</th>\n",
       "      <th>Cloudiness</th>\n",
       "      <th>Wind Speed</th>\n",
       "      <th>Country</th>\n",
       "      <th>Date</th>\n",
       "    </tr>\n",
       "  </thead>\n",
       "  <tbody>\n",
       "    <tr>\n",
       "      <th>31</th>\n",
       "      <td>Rikitea</td>\n",
       "      <td>-23.12</td>\n",
       "      <td>-134.97</td>\n",
       "      <td>73.78</td>\n",
       "      <td>75</td>\n",
       "      <td>0</td>\n",
       "      <td>3.83</td>\n",
       "      <td>PF</td>\n",
       "      <td>1600234370</td>\n",
       "    </tr>\n",
       "    <tr>\n",
       "      <th>89</th>\n",
       "      <td>Tingi</td>\n",
       "      <td>-11.30</td>\n",
       "      <td>35.03</td>\n",
       "      <td>72.81</td>\n",
       "      <td>54</td>\n",
       "      <td>0</td>\n",
       "      <td>6.62</td>\n",
       "      <td>TZ</td>\n",
       "      <td>1600234381</td>\n",
       "    </tr>\n",
       "    <tr>\n",
       "      <th>109</th>\n",
       "      <td>São Miguel do Araguaia</td>\n",
       "      <td>-13.28</td>\n",
       "      <td>-50.16</td>\n",
       "      <td>73.47</td>\n",
       "      <td>40</td>\n",
       "      <td>0</td>\n",
       "      <td>3.76</td>\n",
       "      <td>BR</td>\n",
       "      <td>1600234387</td>\n",
       "    </tr>\n",
       "    <tr>\n",
       "      <th>173</th>\n",
       "      <td>Partyzany</td>\n",
       "      <td>46.33</td>\n",
       "      <td>34.75</td>\n",
       "      <td>71.38</td>\n",
       "      <td>56</td>\n",
       "      <td>0</td>\n",
       "      <td>9.71</td>\n",
       "      <td>UA</td>\n",
       "      <td>1600234403</td>\n",
       "    </tr>\n",
       "    <tr>\n",
       "      <th>185</th>\n",
       "      <td>Farah</td>\n",
       "      <td>32.50</td>\n",
       "      <td>62.50</td>\n",
       "      <td>78.19</td>\n",
       "      <td>16</td>\n",
       "      <td>0</td>\n",
       "      <td>4.18</td>\n",
       "      <td>AF</td>\n",
       "      <td>1600234407</td>\n",
       "    </tr>\n",
       "  </tbody>\n",
       "</table>\n",
       "</div>"
      ],
      "text/plain": [
       "                  City Name    Lat     Lng  Max Temp  Humidity  Cloudiness  \\\n",
       "31                  Rikitea -23.12 -134.97     73.78        75           0   \n",
       "89                    Tingi -11.30   35.03     72.81        54           0   \n",
       "109  São Miguel do Araguaia -13.28  -50.16     73.47        40           0   \n",
       "173               Partyzany  46.33   34.75     71.38        56           0   \n",
       "185                   Farah  32.50   62.50     78.19        16           0   \n",
       "\n",
       "     Wind Speed Country        Date  \n",
       "31         3.83      PF  1600234370  \n",
       "89         6.62      TZ  1600234381  \n",
       "109        3.76      BR  1600234387  \n",
       "173        9.71      UA  1600234403  \n",
       "185        4.18      AF  1600234407  "
      ]
     },
     "execution_count": 16,
     "metadata": {},
     "output_type": "execute_result"
    }
   ],
   "source": [
    "#criteria\n",
    "#A max temperature lower than 80 degrees but higher than 70. Wind speed less than 10 mph. Zero cloudiness.\n",
    "\n",
    "#getting a DF that meets all criteria\n",
    "\n",
    "per_wea_df = city_data_df.loc[(city_data_df[\"Max Temp\"]>70)&\n",
    "                              (city_data_df[\"Max Temp\"]<80)&\n",
    "                              (city_data_df[\"Wind Speed\"]<10)&\n",
    "                              (city_data_df[\"Cloudiness\"]==0)]\n",
    "\n",
    "#displaying DF\n",
    "per_wea_df.dropna()\n",
    "per_wea_df.head()\n",
    "\n"
   ]
  },
  {
   "cell_type": "markdown",
   "metadata": {},
   "source": [
    "### Hotel Map\n",
    "* Store into variable named `hotel_df`.\n",
    "* Add a \"Hotel Name\" column to the DataFrame.\n",
    "* Set parameters to search for hotels with 5000 meters.\n",
    "* Hit the Google Places API for each city's coordinates.\n",
    "* Store the first Hotel result into the DataFrame.\n",
    "* Plot markers on top of the heatmap."
   ]
  },
  {
   "cell_type": "code",
   "execution_count": null,
   "metadata": {},
   "outputs": [],
   "source": []
  },
  {
   "cell_type": "code",
   "execution_count": null,
   "metadata": {},
   "outputs": [],
   "source": []
  },
  {
   "cell_type": "code",
   "execution_count": null,
   "metadata": {},
   "outputs": [],
   "source": [
    "# NOTE: Do not change any of the code in this cell\n",
    "\n",
    "# Using the template add the hotel marks to the heatmap\n",
    "info_box_template = \"\"\"\n",
    "<dl>\n",
    "<dt>Name</dt><dd>{Hotel Name}</dd>\n",
    "<dt>City</dt><dd>{City}</dd>\n",
    "<dt>Country</dt><dd>{Country}</dd>\n",
    "</dl>\n",
    "\"\"\"\n",
    "# Store the DataFrame Row\n",
    "# NOTE: be sure to update with your DataFrame name\n",
    "hotel_info = [info_box_template.format(**row) for index, row in hotel_df.iterrows()]\n",
    "locations = hotel_df[[\"Lat\", \"Lng\"]]"
   ]
  },
  {
   "cell_type": "code",
   "execution_count": null,
   "metadata": {},
   "outputs": [],
   "source": [
    "# Add marker layer ontop of heat map\n",
    "\n",
    "\n",
    "# Display figure\n"
   ]
  },
  {
   "cell_type": "code",
   "execution_count": null,
   "metadata": {},
   "outputs": [],
   "source": []
  }
 ],
 "metadata": {
  "kernelspec": {
   "display_name": "Python 3",
   "language": "python",
   "name": "python3"
  },
  "language_info": {
   "codemirror_mode": {
    "name": "ipython",
    "version": 3
   },
   "file_extension": ".py",
   "mimetype": "text/x-python",
   "name": "python",
   "nbconvert_exporter": "python",
   "pygments_lexer": "ipython3",
   "version": "3.7.6"
  },
  "latex_envs": {
   "LaTeX_envs_menu_present": true,
   "autoclose": false,
   "autocomplete": true,
   "bibliofile": "biblio.bib",
   "cite_by": "apalike",
   "current_citInitial": 1,
   "eqLabelWithNumbers": true,
   "eqNumInitial": 1,
   "hotkeys": {
    "equation": "Ctrl-E",
    "itemize": "Ctrl-I"
   },
   "labels_anchors": false,
   "latex_user_defs": false,
   "report_style_numbering": false,
   "user_envs_cfg": false
  }
 },
 "nbformat": 4,
 "nbformat_minor": 4
}
